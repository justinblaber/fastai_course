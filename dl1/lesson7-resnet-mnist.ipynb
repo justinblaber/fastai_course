{
 "cells": [
  {
   "cell_type": "markdown",
   "metadata": {},
   "source": [
    "# Import"
   ]
  },
  {
   "cell_type": "code",
   "execution_count": 1,
   "metadata": {
    "ExecuteTime": {
     "end_time": "2020-02-20T01:19:35.763321Z",
     "start_time": "2020-02-20T01:19:34.801567Z"
    }
   },
   "outputs": [],
   "source": [
    "%load_ext autoreload\n",
    "%autoreload 2\n",
    "\n",
    "import fastai\n",
    "from fastai import *\n",
    "from fastai.vision import *"
   ]
  },
  {
   "cell_type": "code",
   "execution_count": 2,
   "metadata": {
    "ExecuteTime": {
     "end_time": "2020-02-20T01:19:35.777662Z",
     "start_time": "2020-02-20T01:19:35.764639Z"
    }
   },
   "outputs": [
    {
     "data": {
      "text/plain": [
       "'1.0.57'"
      ]
     },
     "execution_count": 2,
     "metadata": {},
     "output_type": "execute_result"
    }
   ],
   "source": [
    "fastai.__version__"
   ]
  },
  {
   "cell_type": "markdown",
   "metadata": {},
   "source": [
    "# Config"
   ]
  },
  {
   "cell_type": "code",
   "execution_count": 3,
   "metadata": {
    "ExecuteTime": {
     "end_time": "2020-02-20T01:19:35.790783Z",
     "start_time": "2020-02-20T01:19:35.778764Z"
    }
   },
   "outputs": [],
   "source": [
    "lesson_dir_path = Path('lesson7-resnet-mnist')"
   ]
  },
  {
   "cell_type": "code",
   "execution_count": 4,
   "metadata": {
    "ExecuteTime": {
     "end_time": "2020-02-20T01:19:35.806942Z",
     "start_time": "2020-02-20T01:19:35.791943Z"
    }
   },
   "outputs": [
    {
     "data": {
      "text/plain": [
       "PosixPath('/home/justin/.fastai/data/mnist_png')"
      ]
     },
     "execution_count": 4,
     "metadata": {},
     "output_type": "execute_result"
    }
   ],
   "source": [
    "path = untar_data(URLs.MNIST)\n",
    "path"
   ]
  },
  {
   "cell_type": "markdown",
   "metadata": {
    "ExecuteTime": {
     "end_time": "2020-02-18T00:38:11.260431Z",
     "start_time": "2020-02-18T00:38:11.255773Z"
    }
   },
   "source": [
    "# Lesson"
   ]
  },
  {
   "cell_type": "code",
   "execution_count": 5,
   "metadata": {
    "ExecuteTime": {
     "end_time": "2020-02-20T01:19:36.179466Z",
     "start_time": "2020-02-20T01:19:35.807977Z"
    }
   },
   "outputs": [],
   "source": [
    "il = ImageList.from_folder(path, convert_mode='L')"
   ]
  },
  {
   "cell_type": "code",
   "execution_count": 6,
   "metadata": {
    "ExecuteTime": {
     "end_time": "2020-02-20T01:19:36.196269Z",
     "start_time": "2020-02-20T01:19:36.181493Z"
    }
   },
   "outputs": [
    {
     "data": {
      "text/plain": [
       "PosixPath('/home/justin/.fastai/data/mnist_png/testing/5/1144.png')"
      ]
     },
     "execution_count": 6,
     "metadata": {},
     "output_type": "execute_result"
    }
   ],
   "source": [
    "il.items[0]"
   ]
  },
  {
   "cell_type": "code",
   "execution_count": 7,
   "metadata": {
    "ExecuteTime": {
     "end_time": "2020-02-20T01:19:36.230798Z",
     "start_time": "2020-02-20T01:19:36.198227Z"
    }
   },
   "outputs": [
    {
     "data": {
      "text/plain": [
       "ImageList (70000 items)\n",
       "Image (1, 28, 28),Image (1, 28, 28),Image (1, 28, 28),Image (1, 28, 28),Image (1, 28, 28)\n",
       "Path: /home/justin/.fastai/data/mnist_png"
      ]
     },
     "execution_count": 7,
     "metadata": {},
     "output_type": "execute_result"
    }
   ],
   "source": [
    "il"
   ]
  },
  {
   "cell_type": "code",
   "execution_count": 8,
   "metadata": {
    "ExecuteTime": {
     "end_time": "2020-02-20T01:19:36.284934Z",
     "start_time": "2020-02-20T01:19:36.232133Z"
    }
   },
   "outputs": [
    {
     "data": {
      "image/png": "[encoded data removed]",
      "text/plain": [
       "<Figure size 216x216 with 1 Axes>"
      ]
     },
     "metadata": {
      "needs_background": "light"
     },
     "output_type": "display_data"
    }
   ],
   "source": [
    "il[0].show()"
   ]
  },
  {
   "cell_type": "code",
   "execution_count": 9,
   "metadata": {
    "ExecuteTime": {
     "end_time": "2020-02-20T01:19:36.428288Z",
     "start_time": "2020-02-20T01:19:36.285861Z"
    }
   },
   "outputs": [],
   "source": [
    "sd = il.split_by_folder(train='training', valid='testing')"
   ]
  },
  {
   "cell_type": "code",
   "execution_count": 10,
   "metadata": {
    "ExecuteTime": {
     "end_time": "2020-02-20T01:19:36.443375Z",
     "start_time": "2020-02-20T01:19:36.429359Z"
    }
   },
   "outputs": [
    {
     "data": {
      "text/plain": [
       "ItemLists;\n",
       "\n",
       "Train: ImageList (60000 items)\n",
       "Image (1, 28, 28),Image (1, 28, 28),Image (1, 28, 28),Image (1, 28, 28),Image (1, 28, 28)\n",
       "Path: /home/justin/.fastai/data/mnist_png;\n",
       "\n",
       "Valid: ImageList (10000 items)\n",
       "Image (1, 28, 28),Image (1, 28, 28),Image (1, 28, 28),Image (1, 28, 28),Image (1, 28, 28)\n",
       "Path: /home/justin/.fastai/data/mnist_png;\n",
       "\n",
       "Test: None"
      ]
     },
     "execution_count": 10,
     "metadata": {},
     "output_type": "execute_result"
    }
   ],
   "source": [
    "sd"
   ]
  },
  {
   "cell_type": "code",
   "execution_count": 11,
   "metadata": {
    "ExecuteTime": {
     "end_time": "2020-02-20T01:19:36.503733Z",
     "start_time": "2020-02-20T01:19:36.444277Z"
    }
   },
   "outputs": [],
   "source": [
    "ll = sd.label_from_folder()"
   ]
  },
  {
   "cell_type": "code",
   "execution_count": 12,
   "metadata": {
    "ExecuteTime": {
     "end_time": "2020-02-20T01:19:36.521806Z",
     "start_time": "2020-02-20T01:19:36.505236Z"
    }
   },
   "outputs": [
    {
     "data": {
      "text/plain": [
       "LabelLists;\n",
       "\n",
       "Train: LabelList (60000 items)\n",
       "x: ImageList\n",
       "Image (1, 28, 28),Image (1, 28, 28),Image (1, 28, 28),Image (1, 28, 28),Image (1, 28, 28)\n",
       "y: CategoryList\n",
       "5,5,5,5,5\n",
       "Path: /home/justin/.fastai/data/mnist_png;\n",
       "\n",
       "Valid: LabelList (10000 items)\n",
       "x: ImageList\n",
       "Image (1, 28, 28),Image (1, 28, 28),Image (1, 28, 28),Image (1, 28, 28),Image (1, 28, 28)\n",
       "y: CategoryList\n",
       "5,5,5,5,5\n",
       "Path: /home/justin/.fastai/data/mnist_png;\n",
       "\n",
       "Test: None"
      ]
     },
     "execution_count": 12,
     "metadata": {},
     "output_type": "execute_result"
    }
   ],
   "source": [
    "ll"
   ]
  },
  {
   "cell_type": "code",
   "execution_count": 13,
   "metadata": {
    "ExecuteTime": {
     "end_time": "2020-02-20T01:19:36.535596Z",
     "start_time": "2020-02-20T01:19:36.522837Z"
    }
   },
   "outputs": [],
   "source": [
    "X, y = ll.train[0]"
   ]
  },
  {
   "cell_type": "code",
   "execution_count": 14,
   "metadata": {
    "ExecuteTime": {
     "end_time": "2020-02-20T01:19:36.582963Z",
     "start_time": "2020-02-20T01:19:36.536557Z"
    }
   },
   "outputs": [
    {
     "data": {
      "text/plain": [
       "(None, Category 5)"
      ]
     },
     "execution_count": 14,
     "metadata": {},
     "output_type": "execute_result"
    },
    {
     "data": {
      "image/png": "[encoded data removed]",
      "text/plain": [
       "<Figure size 216x216 with 1 Axes>"
      ]
     },
     "metadata": {
      "needs_background": "light"
     },
     "output_type": "display_data"
    }
   ],
   "source": [
    "X.show(), y"
   ]
  },
  {
   "cell_type": "code",
   "execution_count": 15,
   "metadata": {
    "ExecuteTime": {
     "end_time": "2020-02-20T01:19:36.596514Z",
     "start_time": "2020-02-20T01:19:36.583937Z"
    }
   },
   "outputs": [],
   "source": [
    "# No transforms for validation set\n",
    "tfms = ([*rand_pad(padding=3, size=28, mode='zeros')], [])"
   ]
  },
  {
   "cell_type": "code",
   "execution_count": 16,
   "metadata": {
    "ExecuteTime": {
     "end_time": "2020-02-20T01:19:36.609426Z",
     "start_time": "2020-02-20T01:19:36.597563Z"
    }
   },
   "outputs": [],
   "source": [
    "ll = ll.transform(tfms)"
   ]
  },
  {
   "cell_type": "code",
   "execution_count": 17,
   "metadata": {
    "ExecuteTime": {
     "end_time": "2020-02-20T01:19:36.621926Z",
     "start_time": "2020-02-20T01:19:36.610467Z"
    }
   },
   "outputs": [],
   "source": [
    "batch_size = 128"
   ]
  },
  {
   "cell_type": "code",
   "execution_count": 18,
   "metadata": {
    "ExecuteTime": {
     "end_time": "2020-02-20T01:19:40.564335Z",
     "start_time": "2020-02-20T01:19:36.623841Z"
    }
   },
   "outputs": [],
   "source": [
    "data = ll.databunch(bs=batch_size).normalize()"
   ]
  },
  {
   "cell_type": "code",
   "execution_count": 19,
   "metadata": {
    "ExecuteTime": {
     "end_time": "2020-02-20T01:19:40.613602Z",
     "start_time": "2020-02-20T01:19:40.566040Z"
    }
   },
   "outputs": [
    {
     "data": {
      "text/plain": [
       "(None, Category 5)"
      ]
     },
     "execution_count": 19,
     "metadata": {},
     "output_type": "execute_result"
    },
    {
     "data": {
      "image/png": "[encoded data removed]",
      "text/plain": [
       "<Figure size 216x216 with 1 Axes>"
      ]
     },
     "metadata": {
      "needs_background": "light"
     },
     "output_type": "display_data"
    }
   ],
   "source": [
    "X,y = data.train_ds[0]\n",
    "X.show(), y"
   ]
  },
  {
   "cell_type": "code",
   "execution_count": 20,
   "metadata": {
    "ExecuteTime": {
     "end_time": "2020-02-20T01:19:40.856230Z",
     "start_time": "2020-02-20T01:19:40.614533Z"
    }
   },
   "outputs": [
    {
     "data": {
      "image/png": "[encoded data removed]",
      "text/plain": [
       "<Figure size 576x576 with 9 Axes>"
      ]
     },
     "metadata": {
      "needs_background": "light"
     },
     "output_type": "display_data"
    }
   ],
   "source": [
    "def _plot(i,j,ax): data.train_ds[0][0].show(ax, cmap='gray')\n",
    "plot_multi(_plot, 3, 3, figsize=(8,8))"
   ]
  },
  {
   "cell_type": "code",
   "execution_count": 21,
   "metadata": {
    "ExecuteTime": {
     "end_time": "2020-02-20T01:19:41.636576Z",
     "start_time": "2020-02-20T01:19:40.857729Z"
    }
   },
   "outputs": [
    {
     "data": {
      "image/png": "[encoded data removed]",
      "text/plain": [
       "<Figure size 360x360 with 9 Axes>"
      ]
     },
     "metadata": {
      "needs_background": "light"
     },
     "output_type": "display_data"
    }
   ],
   "source": [
    "data.show_batch(rows=3, figsize=(5,5))"
   ]
  },
  {
   "cell_type": "markdown",
   "metadata": {},
   "source": [
    "## Basic CNN with batchnorm"
   ]
  },
  {
   "cell_type": "code",
   "execution_count": 22,
   "metadata": {
    "ExecuteTime": {
     "end_time": "2020-02-20T01:19:41.655762Z",
     "start_time": "2020-02-20T01:19:41.637755Z"
    }
   },
   "outputs": [],
   "source": [
    "def conv(ni,nf): return nn.Conv2d(ni, nf, kernel_size=3, stride=2, padding=1)"
   ]
  },
  {
   "cell_type": "code",
   "execution_count": 23,
   "metadata": {
    "ExecuteTime": {
     "end_time": "2020-02-20T01:19:41.672160Z",
     "start_time": "2020-02-20T01:19:41.656912Z"
    }
   },
   "outputs": [],
   "source": [
    "model = nn.Sequential(\n",
    "    conv(1, 8),   # 14\n",
    "    nn.BatchNorm2d(8),\n",
    "    nn.ReLU(),\n",
    "    conv(8, 16),  # 7\n",
    "    nn.BatchNorm2d(16),\n",
    "    nn.ReLU(),\n",
    "    conv(16, 32), # 4\n",
    "    nn.BatchNorm2d(32),\n",
    "    nn.ReLU(),\n",
    "    conv(32, 16), # 2\n",
    "    nn.BatchNorm2d(16),\n",
    "    nn.ReLU(),\n",
    "    conv(16, 10), # 1\n",
    "    nn.BatchNorm2d(10),\n",
    "    Flatten()     # remove (1,1) grid\n",
    ")\n"
   ]
  },
  {
   "cell_type": "code",
   "execution_count": 24,
   "metadata": {
    "ExecuteTime": {
     "end_time": "2020-02-20T01:19:41.687919Z",
     "start_time": "2020-02-20T01:19:41.673973Z"
    }
   },
   "outputs": [],
   "source": [
    "learn = Learner(data, model, loss_func = nn.CrossEntropyLoss(), metrics=accuracy)"
   ]
  },
  {
   "cell_type": "code",
   "execution_count": 25,
   "metadata": {
    "ExecuteTime": {
     "end_time": "2020-02-20T01:19:42.237303Z",
     "start_time": "2020-02-20T01:19:41.688952Z"
    }
   },
   "outputs": [
    {
     "name": "stdout",
     "output_type": "stream",
     "text": [
      "Sequential\n",
      "======================================================================\n",
      "Layer (type)         Output Shape         Param #    Trainable \n",
      "======================================================================\n",
      "Conv2d               [8, 14, 14]          80         True      \n",
      "______________________________________________________________________\n",
      "BatchNorm2d          [8, 14, 14]          16         True      \n",
      "______________________________________________________________________\n",
      "ReLU                 [8, 14, 14]          0          False     \n",
      "______________________________________________________________________\n",
      "Conv2d               [16, 7, 7]           1,168      True      \n",
      "______________________________________________________________________\n",
      "BatchNorm2d          [16, 7, 7]           32         True      \n",
      "______________________________________________________________________\n",
      "ReLU                 [16, 7, 7]           0          False     \n",
      "______________________________________________________________________\n",
      "Conv2d               [32, 4, 4]           4,640      True      \n",
      "______________________________________________________________________\n",
      "BatchNorm2d          [32, 4, 4]           64         True      \n",
      "______________________________________________________________________\n",
      "ReLU                 [32, 4, 4]           0          False     \n",
      "______________________________________________________________________\n",
      "Conv2d               [16, 2, 2]           4,624      True      \n",
      "______________________________________________________________________\n",
      "BatchNorm2d          [16, 2, 2]           32         True      \n",
      "______________________________________________________________________\n",
      "ReLU                 [16, 2, 2]           0          False     \n",
      "______________________________________________________________________\n",
      "Conv2d               [10, 1, 1]           1,450      True      \n",
      "______________________________________________________________________\n",
      "BatchNorm2d          [10, 1, 1]           20         True      \n",
      "______________________________________________________________________\n",
      "Flatten              [10]                 0          False     \n",
      "______________________________________________________________________\n",
      "\n",
      "Total params: 12,126\n",
      "Total trainable params: 12,126\n",
      "Total non-trainable params: 0\n",
      "Optimized with 'torch.optim.adam.Adam', betas=(0.9, 0.99)\n",
      "Using true weight decay as discussed in https://www.fast.ai/2018/07/02/adam-weight-decay/ \n",
      "Loss function : CrossEntropyLoss\n",
      "======================================================================\n",
      "Callbacks functions applied \n",
      "\n"
     ]
    }
   ],
   "source": [
    "print(learn.summary())"
   ]
  },
  {
   "cell_type": "code",
   "execution_count": 26,
   "metadata": {
    "ExecuteTime": {
     "end_time": "2020-02-20T01:19:42.803396Z",
     "start_time": "2020-02-20T01:19:42.238928Z"
    }
   },
   "outputs": [],
   "source": [
    "X,y = data.one_batch()"
   ]
  },
  {
   "cell_type": "code",
   "execution_count": 27,
   "metadata": {
    "ExecuteTime": {
     "end_time": "2020-02-20T01:19:42.820881Z",
     "start_time": "2020-02-20T01:19:42.804699Z"
    }
   },
   "outputs": [
    {
     "data": {
      "text/plain": [
       "torch.Size([128, 10])"
      ]
     },
     "execution_count": 27,
     "metadata": {},
     "output_type": "execute_result"
    }
   ],
   "source": [
    "model(X.cuda()).shape"
   ]
  },
  {
   "cell_type": "code",
   "execution_count": 28,
   "metadata": {
    "ExecuteTime": {
     "end_time": "2020-02-20T01:19:44.282124Z",
     "start_time": "2020-02-20T01:19:42.822209Z"
    }
   },
   "outputs": [
    {
     "data": {
      "text/html": [],
      "text/plain": [
       "<IPython.core.display.HTML object>"
      ]
     },
     "metadata": {},
     "output_type": "display_data"
    },
    {
     "name": "stdout",
     "output_type": "stream",
     "text": [
      "LR Finder is complete, type {learner_name}.recorder.plot() to see the graph.\n"
     ]
    }
   ],
   "source": [
    "learn.lr_find(end_lr=100)"
   ]
  },
  {
   "cell_type": "code",
   "execution_count": 29,
   "metadata": {
    "ExecuteTime": {
     "end_time": "2020-02-20T01:19:44.617355Z",
     "start_time": "2020-02-20T01:19:44.283191Z"
    }
   },
   "outputs": [
    {
     "data": {
      "image/png": "[encoded data removed]",
      "text/plain": [
       "<Figure size 432x288 with 1 Axes>"
      ]
     },
     "metadata": {
      "needs_background": "light"
     },
     "output_type": "display_data"
    }
   ],
   "source": [
    "learn.recorder.plot()"
   ]
  },
  {
   "cell_type": "code",
   "execution_count": 30,
   "metadata": {
    "ExecuteTime": {
     "end_time": "2020-02-20T01:19:59.522007Z",
     "start_time": "2020-02-20T01:19:44.618472Z"
    }
   },
   "outputs": [
    {
     "data": {
      "text/html": [
       "<table border=\"1\" class=\"dataframe\">\n",
       "  <thead>\n",
       "    <tr style=\"text-align: left;\">\n",
       "      <th>epoch</th>\n",
       "      <th>train_loss</th>\n",
       "      <th>valid_loss</th>\n",
       "      <th>accuracy</th>\n",
       "      <th>time</th>\n",
       "    </tr>\n",
       "  </thead>\n",
       "  <tbody>\n",
       "    <tr>\n",
       "      <td>0</td>\n",
       "      <td>0.226520</td>\n",
       "      <td>0.378818</td>\n",
       "      <td>0.880900</td>\n",
       "      <td>00:04</td>\n",
       "    </tr>\n",
       "    <tr>\n",
       "      <td>1</td>\n",
       "      <td>0.141459</td>\n",
       "      <td>0.083233</td>\n",
       "      <td>0.973100</td>\n",
       "      <td>00:04</td>\n",
       "    </tr>\n",
       "    <tr>\n",
       "      <td>2</td>\n",
       "      <td>0.081164</td>\n",
       "      <td>0.041420</td>\n",
       "      <td>0.987400</td>\n",
       "      <td>00:05</td>\n",
       "    </tr>\n",
       "  </tbody>\n",
       "</table>"
      ],
      "text/plain": [
       "<IPython.core.display.HTML object>"
      ]
     },
     "metadata": {},
     "output_type": "display_data"
    }
   ],
   "source": [
    "learn.fit_one_cycle(3, max_lr=0.1)"
   ]
  },
  {
   "cell_type": "markdown",
   "metadata": {},
   "source": [
    "## Refactor"
   ]
  },
  {
   "cell_type": "code",
   "execution_count": 31,
   "metadata": {
    "ExecuteTime": {
     "end_time": "2020-02-20T01:19:59.536433Z",
     "start_time": "2020-02-20T01:19:59.523021Z"
    }
   },
   "outputs": [],
   "source": [
    "def conv2(ni,nf): return conv_layer(ni,nf,stride=2)"
   ]
  },
  {
   "cell_type": "code",
   "execution_count": 32,
   "metadata": {
    "ExecuteTime": {
     "end_time": "2020-02-20T01:19:59.551191Z",
     "start_time": "2020-02-20T01:19:59.537365Z"
    }
   },
   "outputs": [],
   "source": [
    "model = nn.Sequential(\n",
    "    conv2(1, 8),   # 14\n",
    "    conv2(8, 16),  # 7\n",
    "    conv2(16, 32), # 4\n",
    "    conv2(32, 16), # 2\n",
    "    conv2(16, 10), # 1\n",
    "    Flatten()      # remove (1,1) grid\n",
    ")"
   ]
  },
  {
   "cell_type": "code",
   "execution_count": 33,
   "metadata": {
    "ExecuteTime": {
     "end_time": "2020-02-20T01:19:59.568141Z",
     "start_time": "2020-02-20T01:19:59.553531Z"
    }
   },
   "outputs": [],
   "source": [
    "learn = Learner(data, model, loss_func = nn.CrossEntropyLoss(), metrics=accuracy)"
   ]
  },
  {
   "cell_type": "code",
   "execution_count": 34,
   "metadata": {
    "ExecuteTime": {
     "end_time": "2020-02-20T01:20:50.539315Z",
     "start_time": "2020-02-20T01:19:59.569317Z"
    }
   },
   "outputs": [
    {
     "data": {
      "text/html": [
       "<table border=\"1\" class=\"dataframe\">\n",
       "  <thead>\n",
       "    <tr style=\"text-align: left;\">\n",
       "      <th>epoch</th>\n",
       "      <th>train_loss</th>\n",
       "      <th>valid_loss</th>\n",
       "      <th>accuracy</th>\n",
       "      <th>time</th>\n",
       "    </tr>\n",
       "  </thead>\n",
       "  <tbody>\n",
       "    <tr>\n",
       "      <td>0</td>\n",
       "      <td>0.246003</td>\n",
       "      <td>0.160559</td>\n",
       "      <td>0.952400</td>\n",
       "      <td>00:04</td>\n",
       "    </tr>\n",
       "    <tr>\n",
       "      <td>1</td>\n",
       "      <td>0.189711</td>\n",
       "      <td>0.265446</td>\n",
       "      <td>0.911100</td>\n",
       "      <td>00:04</td>\n",
       "    </tr>\n",
       "    <tr>\n",
       "      <td>2</td>\n",
       "      <td>0.171913</td>\n",
       "      <td>0.111214</td>\n",
       "      <td>0.964600</td>\n",
       "      <td>00:04</td>\n",
       "    </tr>\n",
       "    <tr>\n",
       "      <td>3</td>\n",
       "      <td>0.149582</td>\n",
       "      <td>0.128028</td>\n",
       "      <td>0.958600</td>\n",
       "      <td>00:04</td>\n",
       "    </tr>\n",
       "    <tr>\n",
       "      <td>4</td>\n",
       "      <td>0.122836</td>\n",
       "      <td>0.083328</td>\n",
       "      <td>0.973900</td>\n",
       "      <td>00:05</td>\n",
       "    </tr>\n",
       "    <tr>\n",
       "      <td>5</td>\n",
       "      <td>0.108703</td>\n",
       "      <td>0.206140</td>\n",
       "      <td>0.932500</td>\n",
       "      <td>00:05</td>\n",
       "    </tr>\n",
       "    <tr>\n",
       "      <td>6</td>\n",
       "      <td>0.087479</td>\n",
       "      <td>0.055561</td>\n",
       "      <td>0.982500</td>\n",
       "      <td>00:05</td>\n",
       "    </tr>\n",
       "    <tr>\n",
       "      <td>7</td>\n",
       "      <td>0.064786</td>\n",
       "      <td>0.049081</td>\n",
       "      <td>0.983100</td>\n",
       "      <td>00:05</td>\n",
       "    </tr>\n",
       "    <tr>\n",
       "      <td>8</td>\n",
       "      <td>0.053171</td>\n",
       "      <td>0.028175</td>\n",
       "      <td>0.990200</td>\n",
       "      <td>00:05</td>\n",
       "    </tr>\n",
       "    <tr>\n",
       "      <td>9</td>\n",
       "      <td>0.048078</td>\n",
       "      <td>0.026949</td>\n",
       "      <td>0.991200</td>\n",
       "      <td>00:05</td>\n",
       "    </tr>\n",
       "  </tbody>\n",
       "</table>"
      ],
      "text/plain": [
       "<IPython.core.display.HTML object>"
      ]
     },
     "metadata": {},
     "output_type": "display_data"
    }
   ],
   "source": [
    "learn.fit_one_cycle(10, max_lr=0.1)"
   ]
  },
  {
   "cell_type": "markdown",
   "metadata": {
    "ExecuteTime": {
     "end_time": "2020-02-19T04:24:19.300576Z",
     "start_time": "2020-02-19T04:24:19.283379Z"
    }
   },
   "source": [
    "## Resnet-ish"
   ]
  },
  {
   "cell_type": "code",
   "execution_count": 35,
   "metadata": {
    "ExecuteTime": {
     "end_time": "2020-02-20T01:20:50.558716Z",
     "start_time": "2020-02-20T01:20:50.540705Z"
    }
   },
   "outputs": [],
   "source": [
    "class ResBlock(nn.Module):\n",
    "    def __init__(self, nf):\n",
    "        super().__init__()\n",
    "        self.conv1 = conv_layer(nf,nf)\n",
    "        self.conv2 = conv_layer(nf,nf)\n",
    "        \n",
    "    def forward(self, x): return x + self.conv2(self.conv1(x))"
   ]
  },
  {
   "cell_type": "code",
   "execution_count": 36,
   "metadata": {
    "ExecuteTime": {
     "end_time": "2020-02-20T01:20:50.579065Z",
     "start_time": "2020-02-20T01:20:50.559863Z"
    }
   },
   "outputs": [],
   "source": [
    "model = nn.Sequential(\n",
    "    conv2(1, 8),\n",
    "    res_block(8),\n",
    "    conv2(8, 16),\n",
    "    res_block(16),\n",
    "    conv2(16, 32),\n",
    "    res_block(32),\n",
    "    conv2(32, 16),\n",
    "    res_block(16),\n",
    "    conv2(16, 10),\n",
    "    Flatten()\n",
    ")"
   ]
  },
  {
   "cell_type": "code",
   "execution_count": 37,
   "metadata": {
    "ExecuteTime": {
     "end_time": "2020-02-20T01:20:50.594740Z",
     "start_time": "2020-02-20T01:20:50.580508Z"
    }
   },
   "outputs": [],
   "source": [
    "def conv_and_res(ni,nf): return nn.Sequential(conv2(ni, nf), res_block(nf))"
   ]
  },
  {
   "cell_type": "code",
   "execution_count": 38,
   "metadata": {
    "ExecuteTime": {
     "end_time": "2020-02-20T01:20:50.613795Z",
     "start_time": "2020-02-20T01:20:50.595966Z"
    }
   },
   "outputs": [],
   "source": [
    "model = nn.Sequential(\n",
    "    conv_and_res(1, 8),\n",
    "    conv_and_res(8, 16),\n",
    "    conv_and_res(16, 32),\n",
    "    conv_and_res(32, 16),\n",
    "    conv2(16, 10),\n",
    "    Flatten()\n",
    ")"
   ]
  },
  {
   "cell_type": "code",
   "execution_count": 39,
   "metadata": {
    "ExecuteTime": {
     "end_time": "2020-02-20T01:20:50.634238Z",
     "start_time": "2020-02-20T01:20:50.614836Z"
    }
   },
   "outputs": [],
   "source": [
    "learn = Learner(data, model, loss_func = nn.CrossEntropyLoss(), metrics=accuracy)"
   ]
  },
  {
   "cell_type": "code",
   "execution_count": 40,
   "metadata": {
    "ExecuteTime": {
     "end_time": "2020-02-20T01:20:52.794500Z",
     "start_time": "2020-02-20T01:20:50.635338Z"
    }
   },
   "outputs": [
    {
     "data": {
      "text/html": [],
      "text/plain": [
       "<IPython.core.display.HTML object>"
      ]
     },
     "metadata": {},
     "output_type": "display_data"
    },
    {
     "name": "stdout",
     "output_type": "stream",
     "text": [
      "LR Finder is complete, type {learner_name}.recorder.plot() to see the graph.\n"
     ]
    },
    {
     "data": {
      "image/png": "[encoded data removed]",
      "text/plain": [
       "<Figure size 432x288 with 1 Axes>"
      ]
     },
     "metadata": {
      "needs_background": "light"
     },
     "output_type": "display_data"
    }
   ],
   "source": [
    "learn.lr_find()\n",
    "learn.recorder.plot()"
   ]
  },
  {
   "cell_type": "code",
   "execution_count": 41,
   "metadata": {
    "ExecuteTime": {
     "end_time": "2020-02-20T01:22:18.834243Z",
     "start_time": "2020-02-20T01:20:52.795825Z"
    }
   },
   "outputs": [
    {
     "data": {
      "text/html": [
       "<table border=\"1\" class=\"dataframe\">\n",
       "  <thead>\n",
       "    <tr style=\"text-align: left;\">\n",
       "      <th>epoch</th>\n",
       "      <th>train_loss</th>\n",
       "      <th>valid_loss</th>\n",
       "      <th>accuracy</th>\n",
       "      <th>time</th>\n",
       "    </tr>\n",
       "  </thead>\n",
       "  <tbody>\n",
       "    <tr>\n",
       "      <td>0</td>\n",
       "      <td>0.196036</td>\n",
       "      <td>0.141368</td>\n",
       "      <td>0.960100</td>\n",
       "      <td>00:06</td>\n",
       "    </tr>\n",
       "    <tr>\n",
       "      <td>1</td>\n",
       "      <td>0.124420</td>\n",
       "      <td>0.142854</td>\n",
       "      <td>0.957000</td>\n",
       "      <td>00:07</td>\n",
       "    </tr>\n",
       "    <tr>\n",
       "      <td>2</td>\n",
       "      <td>0.109352</td>\n",
       "      <td>0.169411</td>\n",
       "      <td>0.940300</td>\n",
       "      <td>00:07</td>\n",
       "    </tr>\n",
       "    <tr>\n",
       "      <td>3</td>\n",
       "      <td>0.089090</td>\n",
       "      <td>0.188017</td>\n",
       "      <td>0.939900</td>\n",
       "      <td>00:07</td>\n",
       "    </tr>\n",
       "    <tr>\n",
       "      <td>4</td>\n",
       "      <td>0.066164</td>\n",
       "      <td>0.057741</td>\n",
       "      <td>0.981400</td>\n",
       "      <td>00:07</td>\n",
       "    </tr>\n",
       "    <tr>\n",
       "      <td>5</td>\n",
       "      <td>0.063153</td>\n",
       "      <td>0.038205</td>\n",
       "      <td>0.987500</td>\n",
       "      <td>00:07</td>\n",
       "    </tr>\n",
       "    <tr>\n",
       "      <td>6</td>\n",
       "      <td>0.058084</td>\n",
       "      <td>0.051741</td>\n",
       "      <td>0.983300</td>\n",
       "      <td>00:07</td>\n",
       "    </tr>\n",
       "    <tr>\n",
       "      <td>7</td>\n",
       "      <td>0.038941</td>\n",
       "      <td>0.044741</td>\n",
       "      <td>0.985800</td>\n",
       "      <td>00:07</td>\n",
       "    </tr>\n",
       "    <tr>\n",
       "      <td>8</td>\n",
       "      <td>0.035886</td>\n",
       "      <td>0.025849</td>\n",
       "      <td>0.991800</td>\n",
       "      <td>00:07</td>\n",
       "    </tr>\n",
       "    <tr>\n",
       "      <td>9</td>\n",
       "      <td>0.027844</td>\n",
       "      <td>0.019039</td>\n",
       "      <td>0.994700</td>\n",
       "      <td>00:07</td>\n",
       "    </tr>\n",
       "    <tr>\n",
       "      <td>10</td>\n",
       "      <td>0.022188</td>\n",
       "      <td>0.016982</td>\n",
       "      <td>0.994600</td>\n",
       "      <td>00:07</td>\n",
       "    </tr>\n",
       "    <tr>\n",
       "      <td>11</td>\n",
       "      <td>0.018623</td>\n",
       "      <td>0.016354</td>\n",
       "      <td>0.994800</td>\n",
       "      <td>00:07</td>\n",
       "    </tr>\n",
       "  </tbody>\n",
       "</table>"
      ],
      "text/plain": [
       "<IPython.core.display.HTML object>"
      ]
     },
     "metadata": {},
     "output_type": "display_data"
    }
   ],
   "source": [
    "learn.fit_one_cycle(12, max_lr=0.05)"
   ]
  },
  {
   "cell_type": "code",
   "execution_count": 42,
   "metadata": {
    "ExecuteTime": {
     "end_time": "2020-02-20T01:22:19.428831Z",
     "start_time": "2020-02-20T01:22:18.835528Z"
    }
   },
   "outputs": [
    {
     "name": "stdout",
     "output_type": "stream",
     "text": [
      "Sequential\n",
      "======================================================================\n",
      "Layer (type)         Output Shape         Param #    Trainable \n",
      "======================================================================\n",
      "Conv2d               [8, 14, 14]          72         True      \n",
      "______________________________________________________________________\n",
      "ReLU                 [8, 14, 14]          0          False     \n",
      "______________________________________________________________________\n",
      "BatchNorm2d          [8, 14, 14]          16         True      \n",
      "______________________________________________________________________\n",
      "Conv2d               [8, 14, 14]          576        True      \n",
      "______________________________________________________________________\n",
      "ReLU                 [8, 14, 14]          0          False     \n",
      "______________________________________________________________________\n",
      "BatchNorm2d          [8, 14, 14]          16         True      \n",
      "______________________________________________________________________\n",
      "Conv2d               [8, 14, 14]          576        True      \n",
      "______________________________________________________________________\n",
      "ReLU                 [8, 14, 14]          0          False     \n",
      "______________________________________________________________________\n",
      "BatchNorm2d          [8, 14, 14]          16         True      \n",
      "______________________________________________________________________\n",
      "MergeLayer           [8, 14, 14]          0          False     \n",
      "______________________________________________________________________\n",
      "Conv2d               [16, 7, 7]           1,152      True      \n",
      "______________________________________________________________________\n",
      "ReLU                 [16, 7, 7]           0          False     \n",
      "______________________________________________________________________\n",
      "BatchNorm2d          [16, 7, 7]           32         True      \n",
      "______________________________________________________________________\n",
      "Conv2d               [16, 7, 7]           2,304      True      \n",
      "______________________________________________________________________\n",
      "ReLU                 [16, 7, 7]           0          False     \n",
      "______________________________________________________________________\n",
      "BatchNorm2d          [16, 7, 7]           32         True      \n",
      "______________________________________________________________________\n",
      "Conv2d               [16, 7, 7]           2,304      True      \n",
      "______________________________________________________________________\n",
      "ReLU                 [16, 7, 7]           0          False     \n",
      "______________________________________________________________________\n",
      "BatchNorm2d          [16, 7, 7]           32         True      \n",
      "______________________________________________________________________\n",
      "MergeLayer           [16, 7, 7]           0          False     \n",
      "______________________________________________________________________\n",
      "Conv2d               [32, 4, 4]           4,608      True      \n",
      "______________________________________________________________________\n",
      "ReLU                 [32, 4, 4]           0          False     \n",
      "______________________________________________________________________\n",
      "BatchNorm2d          [32, 4, 4]           64         True      \n",
      "______________________________________________________________________\n",
      "Conv2d               [32, 4, 4]           9,216      True      \n",
      "______________________________________________________________________\n",
      "ReLU                 [32, 4, 4]           0          False     \n",
      "______________________________________________________________________\n",
      "BatchNorm2d          [32, 4, 4]           64         True      \n",
      "______________________________________________________________________\n",
      "Conv2d               [32, 4, 4]           9,216      True      \n",
      "______________________________________________________________________\n",
      "ReLU                 [32, 4, 4]           0          False     \n",
      "______________________________________________________________________\n",
      "BatchNorm2d          [32, 4, 4]           64         True      \n",
      "______________________________________________________________________\n",
      "MergeLayer           [32, 4, 4]           0          False     \n",
      "______________________________________________________________________\n",
      "Conv2d               [16, 2, 2]           4,608      True      \n",
      "______________________________________________________________________\n",
      "ReLU                 [16, 2, 2]           0          False     \n",
      "______________________________________________________________________\n",
      "BatchNorm2d          [16, 2, 2]           32         True      \n",
      "______________________________________________________________________\n",
      "Conv2d               [16, 2, 2]           2,304      True      \n",
      "______________________________________________________________________\n",
      "ReLU                 [16, 2, 2]           0          False     \n",
      "______________________________________________________________________\n",
      "BatchNorm2d          [16, 2, 2]           32         True      \n",
      "______________________________________________________________________\n",
      "Conv2d               [16, 2, 2]           2,304      True      \n",
      "______________________________________________________________________\n",
      "ReLU                 [16, 2, 2]           0          False     \n",
      "______________________________________________________________________\n",
      "BatchNorm2d          [16, 2, 2]           32         True      \n",
      "______________________________________________________________________\n",
      "MergeLayer           [16, 2, 2]           0          False     \n",
      "______________________________________________________________________\n",
      "Conv2d               [10, 1, 1]           1,440      True      \n",
      "______________________________________________________________________\n",
      "ReLU                 [10, 1, 1]           0          False     \n",
      "______________________________________________________________________\n",
      "BatchNorm2d          [10, 1, 1]           20         True      \n",
      "______________________________________________________________________\n",
      "Flatten              [10]                 0          False     \n",
      "______________________________________________________________________\n",
      "\n",
      "Total params: 41,132\n",
      "Total trainable params: 41,132\n",
      "Total non-trainable params: 0\n",
      "Optimized with 'torch.optim.adam.Adam', betas=(0.9, 0.99)\n",
      "Using true weight decay as discussed in https://www.fast.ai/2018/07/02/adam-weight-decay/ \n",
      "Loss function : CrossEntropyLoss\n",
      "======================================================================\n",
      "Callbacks functions applied \n",
      "\n"
     ]
    }
   ],
   "source": [
    "print(learn.summary())"
   ]
  },
  {
   "cell_type": "code",
   "execution_count": null,
   "metadata": {},
   "outputs": [],
   "source": []
  }
 ],
 "metadata": {
  "kernelspec": {
   "display_name": "Python 3",
   "language": "python",
   "name": "python3"
  },
  "language_info": {
   "codemirror_mode": {
    "name": "ipython",
    "version": 3
   },
   "file_extension": ".py",
   "mimetype": "text/x-python",
   "name": "python",
   "nbconvert_exporter": "python",
   "pygments_lexer": "ipython3",
   "version": "3.6.9"
  },
  "varInspector": {
   "cols": {
    "lenName": 16,
    "lenType": 16,
    "lenVar": 40
   },
   "kernels_config": {
    "python": {
     "delete_cmd_postfix": "",
     "delete_cmd_prefix": "del ",
     "library": "var_list.py",
     "varRefreshCmd": "print(var_dic_list())"
    },
    "r": {
     "delete_cmd_postfix": ") ",
     "delete_cmd_prefix": "rm(",
     "library": "var_list.r",
     "varRefreshCmd": "cat(var_dic_list()) "
    }
   },
   "position": {
    "height": "716.85px",
    "left": "601px",
    "right": "20px",
    "top": "120px",
    "width": "307px"
   },
   "types_to_exclude": [
    "module",
    "function",
    "builtin_function_or_method",
    "instance",
    "_Feature"
   ],
   "window_display": false
  }
 },
 "nbformat": 4,
 "nbformat_minor": 2
}
